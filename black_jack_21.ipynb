{
 "cells": [
  {
   "cell_type": "markdown",
   "metadata": {},
   "source": [
    "## NEURAL EVOLUTION FROM SCRATCH\n",
    "\n",
    "This is a neural network evolved by genetic algorithm using only python and numpy library.  \n",
    "\n",
    "This implementation is slow and take some hours to converge for good results.  \n",
    "\n",
    " I used a minimalist version of blackjack (A game known as 21 or vinte-um in Brazil). \n",
    " \n",
    "\n",
    " The neural network use as inputs itself pontuation, the player with higher pontuation less than 21 and the cummulative sum of all cads played until that particular turn.  "
   ]
  },
  {
   "cell_type": "markdown",
   "metadata": {},
   "source": [
    "<img src='https://brasilcasinos.com.br/images/maos-do-blackjack.jpg'>"
   ]
  },
  {
   "cell_type": "markdown",
   "metadata": {},
   "source": [
    "Short Game explanation:\n",
    "    \n",
    "    - The players start with 2 cards\n",
    "    - The sum of those cards should be exactly 21 in order to win the game.\n",
    "    - Each turn, the players CAN DECIDE to draw a new card to try approximate the current value to 21.  \n",
    "    - Case the sum of all cards in the player's hand is higher than 21,  that player lost the game.\n",
    "    - The Player with score closest to 21 is the winner.  \n"
   ]
  },
  {
   "cell_type": "code",
   "execution_count": 2,
   "metadata": {},
   "outputs": [],
   "source": [
    "%matplotlib inline\n",
    "import matplotlib.pyplot as plt\n",
    "import numpy as np\n",
    "from scipy.stats import logistic\n",
    "import pandas as pd\n",
    "import copy\n",
    "from random import shuffle, sample\n",
    "import random\n",
    "\n"
   ]
  },
  {
   "cell_type": "markdown",
   "metadata": {},
   "source": [
    "### Creating a simple blackjack game."
   ]
  },
  {
   "cell_type": "code",
   "execution_count": 3,
   "metadata": {},
   "outputs": [],
   "source": [
    "class Game:\n",
    "    def __init__(self):\n",
    "        self.deck =  4* range(1,11)\n",
    "        shuffle(self.deck)\n",
    "        self.game_running = False\n",
    "        self.cumulative_draw = 0 \n",
    "        self.best_player_score = 0\n",
    "    def start_game(self, player_list):\n",
    "        while  len([p for p in player_list if p.burn == False and p.stop == False]) > 1:\n",
    "            for player in [p_t for p_t in player_list if p_t.burn == False and p_t.stop == False]:\n",
    "                #print player.name,player.points\n",
    "                if player.decision(self)[0] == 0:\n",
    "                    player.stop_game()\n",
    "                else:\n",
    "                    self.cumulative_draw += player.draw(self.deck)\n",
    "                if self.best_player_score < player.points:\n",
    "                    self.best_player_score = player.points\n",
    "        #print [[p_e.name, p_e.points] for p_e in player_list]\n",
    "        winner_table =  [p_e for p_e in player_list if p_e.burn == False]\n",
    "        winner_table = sorted(winner_table, key = lambda x : 21 - x.points)\n",
    "        #print [p_e.points for p_e in winner_table] \n",
    "        #print 'Game ended...'\n",
    "        \n",
    "         \n",
    "        if set([p_end.points for p_end in winner_table]) == 1 or not winner_table:\n",
    "            #print 'ko'\n",
    "            return 'ko'\n",
    "        else:\n",
    "            #print 'ganhador',   winner_table[0].name \n",
    "            return winner_table[0].name\n",
    "        \n",
    "        "
   ]
  },
  {
   "cell_type": "markdown",
   "metadata": {},
   "source": [
    "### Defining the Player class"
   ]
  },
  {
   "cell_type": "code",
   "execution_count": 4,
   "metadata": {},
   "outputs": [],
   "source": [
    "class Player:\n",
    "    def __init__(self, name):\n",
    "        self.stop = False\n",
    "        self.burn = False\n",
    "        self.points = 0\n",
    "        self.name = name\n",
    "        self.neural_network = None\n",
    "    def decision(self, game_obj):\n",
    "        \n",
    "        out = sample([0,1], 1) # the output shoud be [0] or [1]\n",
    "        #print out \n",
    "        return out  # random behavior\n",
    "    \n",
    "    def stop_game(self):\n",
    "        #print self.name, 'Stop'\n",
    "        self.stop = True\n",
    "    def draw(self, deck_game):\n",
    "        \n",
    "        card = deck_game.pop()\n",
    "        #print self.name, 'comprou card', card\n",
    "        self.points += card\n",
    "        if self.points > 21:\n",
    "            self.burn = True\n",
    "            #print self.name, 'BURNEDD!'\n",
    "        return card\n",
    "            \n",
    "    \n",
    "    \n",
    "\n",
    "        "
   ]
  },
  {
   "cell_type": "markdown",
   "metadata": {},
   "source": [
    "### Gerating simple Players usig Player class inheritance and  overwriting the decision method."
   ]
  },
  {
   "cell_type": "code",
   "execution_count": 5,
   "metadata": {},
   "outputs": [],
   "source": [
    "class First_strategy(Player):\n",
    "    def decision(self, game_obj):\n",
    "        if self.points < 15:\n",
    "            return [1]\n",
    "        else:\n",
    "            return [0]\n",
    "    \n",
    "class Second_strategy(Player):\n",
    "    def decision(self, game_obj):\n",
    "        return [1]"
   ]
  },
  {
   "cell_type": "markdown",
   "metadata": {},
   "source": [
    "### Simulating a simple championship with 3 different players."
   ]
  },
  {
   "cell_type": "code",
   "execution_count": 6,
   "metadata": {
    "scrolled": true
   },
   "outputs": [
    {
     "name": "stdout",
     "output_type": "stream",
     "text": [
      "6\n",
      "['Lucas', 'Lucas', 'Lucas', 'Lucas', 'Lucas', 'Lucas', 'Lucas', 'Lucas', 'Lucas', 'Sergio', 'Lucas', 'Lucas', 'Sergio', 'Miura', 'Sergio', 'Lucas', 'Sergio', 'Lucas', 'Lucas', 'Lucas', 'Lucas', 'Lucas', 'Sergio', 'Lucas', 'Lucas', 'Lucas', 'Lucas', 'Sergio', 'Lucas', 'Lucas', 'Lucas', 'Lucas', 'Lucas', 'Lucas', 'Lucas', 'Lucas', 'Sergio', 'Lucas', 'Lucas', 'Lucas', 'Lucas', 'Lucas', 'Lucas', 'Lucas', 'Lucas', 'Sergio', 'Sergio', 'Lucas', 'Sergio', 'Miura', 'Lucas', 'Lucas', 'Miura', 'Sergio', 'Lucas', 'Lucas', 'Lucas', 'Lucas', 'Lucas', 'Lucas', 'Lucas', 'Lucas', 'Lucas', 'Lucas', 'Lucas', 'Lucas', 'Lucas', 'Sergio', 'Lucas', 'Lucas', 'Sergio', 'Lucas', 'Lucas', 'Lucas', 'Lucas', 'Miura', 'Miura', 'Lucas', 'Lucas', 'Lucas', 'Lucas', 'Sergio', 'Lucas', 'Lucas', 'Lucas', 'Lucas', 'Lucas', 'Lucas', 'Lucas', 'Miura', 'Lucas', 'Sergio', 'Lucas', 'Lucas', 'Lucas', 'Lucas', 'Lucas', 'Sergio', 'Lucas', 'Lucas']\n"
     ]
    }
   ],
   "source": [
    "matchs = []\n",
    "\n",
    "for x in range(100):\n",
    "    jogo = Game()\n",
    "    lucas = First_strategy('Lucas')\n",
    "    miura = Player('Miura')\n",
    "    sergio = Second_strategy('Sergio')\n",
    "    \n",
    "    matchs.append(jogo.start_game([lucas, miura, sergio]))\n",
    "\n",
    "print len([m for m in matchs if m == 'Miura'])\n",
    "print matchs"
   ]
  },
  {
   "cell_type": "markdown",
   "metadata": {},
   "source": [
    "###  Neural network class implementation with forward propagation"
   ]
  },
  {
   "cell_type": "code",
   "execution_count": 7,
   "metadata": {},
   "outputs": [],
   "source": [
    "class Network:\n",
    "    def __init__(self, input_number = 2):\n",
    "        self.l_1 = np.random.uniform(-1,1, [10,input_number])\n",
    "\n",
    "        self.l_2 = np.random.uniform(-1,1,[10,10])\n",
    "        self.l_end = np.random.uniform(-1,1,[1,10])\n",
    "        self.layers_stack = [self.l_1 , self.l_2 , self.l_end]\n",
    "    \n",
    "    \n",
    "    def sigmoid (self, x): return 1/(1 + np.exp(-x))\n",
    "    \n",
    "    def foward(self, input_value):\n",
    "        #print input_value\n",
    "        res_l1 =  np.array([self.sigmoid(l1_s) for l1_s in      input_value.dot(self.l_1.T)])\n",
    "        res_l2 = np.array([ self.sigmoid(l2_s)  for l2_s in     res_l1.dot(self.l_2.T)])\n",
    "        res_end = np.array([self.sigmoid (l_r) for l_r in       res_l2.dot(self.l_end.T)])\n",
    "        #print res_end\n",
    "        return res_end\n",
    "    \n",
    "    def mutate(self, layer):\n",
    "        index_to_mutate = [np.random.randint(layer.shape[0]), np.random.randint(layer.shape[1])]\n",
    "        #print 'mutate',  np.random.uniform(-1, 1)\n",
    "        layer[index_to_mutate[0], index_to_mutate[1]] += np.random.uniform(-0.01, 0.01)\n",
    "        \n",
    "        \n",
    "    def mutate_all_layers(self):\n",
    "        for l in self.layers_stack:\n",
    "            self.mutate(l)\n",
    "    "
   ]
  },
  {
   "cell_type": "code",
   "execution_count": null,
   "metadata": {},
   "outputs": [],
   "source": []
  },
  {
   "cell_type": "markdown",
   "metadata": {},
   "source": [
    "### Creating a Neural Network Player\n",
    "\n",
    "The decision method returns 0 (stop),1 (draw a card)\n",
    "The inputs  are: \n",
    "\n",
    "- Agent score.\n",
    "- Highest opponent pontuation.\n",
    "- Sum of all cards played until that moment"
   ]
  },
  {
   "cell_type": "code",
   "execution_count": 8,
   "metadata": {},
   "outputs": [],
   "source": [
    "class Neural_strategy(Player):\n",
    "    def decision(self, game_obj):\n",
    "        best_rank_player = game_obj.best_player_score\n",
    "        #print best_rank_player\n",
    "        #print  [self.neural_network.foward(np.array([ self.points, best_rank_player ,game_obj.cumulative_draw]))]\n",
    "\n",
    "        return [int(round(self.neural_network.foward(np.array([ self.points, best_rank_player ,game_obj.cumulative_draw]))))]\n",
    "\n",
    "    def init_neural_activity(self):\n",
    "        self.neural_network = Network(input_number = 3)\n",
    "    def reset_status(self):\n",
    "        self.stop = False\n",
    "        self.burn = False\n",
    "        self.points = 0\n",
    "        \n",
    "\n",
    "        "
   ]
  },
  {
   "cell_type": "markdown",
   "metadata": {},
   "source": [
    "### Training/Evolving the neural networks\n",
    "\n",
    "using the follow parameters. \n",
    "-  population = 500  \n",
    "-  iterations = 100  \n",
    "- matchs per championship = 300  \n",
    "- The two best AI neural networks are choosed to ploriferate and mutate.  \n",
    "- Fitness fuction is given as the mean of championship won games. "
   ]
  },
  {
   "cell_type": "code",
   "execution_count": 11,
   "metadata": {
    "scrolled": true
   },
   "outputs": [
    {
     "name": "stderr",
     "output_type": "stream",
     "text": [
      "100%|██████████| 500/500 [00:25<00:00, 19.81it/s]\n",
      "  0%|          | 0/500 [00:00<?, ?it/s]"
     ]
    },
    {
     "name": "stdout",
     "output_type": "stream",
     "text": [
      "Iteration MEAN: 11.14\n",
      "Iteration: 0 Best value: 50.0\n"
     ]
    },
    {
     "name": "stderr",
     "output_type": "stream",
     "text": [
      "100%|██████████| 500/500 [00:40<00:00, 12.82it/s]\n",
      "  0%|          | 0/500 [00:00<?, ?it/s]"
     ]
    },
    {
     "name": "stdout",
     "output_type": "stream",
     "text": [
      "Iteration MEAN: 28.756\n",
      "Iteration: 1 Best value: 52.0\n"
     ]
    },
    {
     "name": "stderr",
     "output_type": "stream",
     "text": [
      "100%|██████████| 500/500 [00:37<00:00, 13.96it/s]\n",
      "  0%|          | 0/500 [00:00<?, ?it/s]"
     ]
    },
    {
     "name": "stdout",
     "output_type": "stream",
     "text": [
      "Iteration MEAN: 37.312\n",
      "Iteration: 2 Best value: 60.0\n"
     ]
    },
    {
     "name": "stderr",
     "output_type": "stream",
     "text": [
      "100%|██████████| 500/500 [00:39<00:00, 12.66it/s]\n",
      "  0%|          | 0/500 [00:00<?, ?it/s]"
     ]
    },
    {
     "name": "stdout",
     "output_type": "stream",
     "text": [
      "Iteration MEAN: 37.784\n",
      "Iteration: 3 Best value: 58.0\n"
     ]
    },
    {
     "name": "stderr",
     "output_type": "stream",
     "text": [
      "100%|██████████| 500/500 [00:40<00:00, 11.73it/s]\n",
      "  0%|          | 0/500 [00:00<?, ?it/s]"
     ]
    },
    {
     "name": "stdout",
     "output_type": "stream",
     "text": [
      "Iteration MEAN: 38.252\n",
      "Iteration: 4 Best value: 64.0\n"
     ]
    },
    {
     "name": "stderr",
     "output_type": "stream",
     "text": [
      "100%|██████████| 500/500 [00:40<00:00, 12.55it/s]\n",
      "  0%|          | 0/500 [00:00<?, ?it/s]"
     ]
    },
    {
     "name": "stdout",
     "output_type": "stream",
     "text": [
      "Iteration MEAN: 38.628\n",
      "Iteration: 5 Best value: 64.0\n"
     ]
    },
    {
     "name": "stderr",
     "output_type": "stream",
     "text": [
      "100%|██████████| 500/500 [00:40<00:00, 11.35it/s]\n",
      "  0%|          | 0/500 [00:00<?, ?it/s]"
     ]
    },
    {
     "name": "stdout",
     "output_type": "stream",
     "text": [
      "Iteration MEAN: 38.348\n",
      "Iteration: 6 Best value: 58.0\n"
     ]
    },
    {
     "name": "stderr",
     "output_type": "stream",
     "text": [
      "100%|██████████| 500/500 [00:40<00:00, 12.50it/s]\n",
      "  0%|          | 0/500 [00:00<?, ?it/s]"
     ]
    },
    {
     "name": "stdout",
     "output_type": "stream",
     "text": [
      "Iteration MEAN: 38.64\n",
      "Iteration: 7 Best value: 56.0\n"
     ]
    },
    {
     "name": "stderr",
     "output_type": "stream",
     "text": [
      "100%|██████████| 500/500 [00:41<00:00, 12.43it/s]\n",
      "  0%|          | 0/500 [00:00<?, ?it/s]"
     ]
    },
    {
     "name": "stdout",
     "output_type": "stream",
     "text": [
      "Iteration MEAN: 38.684\n",
      "Iteration: 8 Best value: 68.0\n"
     ]
    },
    {
     "name": "stderr",
     "output_type": "stream",
     "text": [
      "100%|██████████| 500/500 [00:40<00:00, 12.38it/s]\n",
      "  0%|          | 0/500 [00:00<?, ?it/s]"
     ]
    },
    {
     "name": "stdout",
     "output_type": "stream",
     "text": [
      "Iteration MEAN: 38.496\n",
      "Iteration: 9 Best value: 58.0\n"
     ]
    },
    {
     "name": "stderr",
     "output_type": "stream",
     "text": [
      "100%|██████████| 500/500 [00:40<00:00, 12.72it/s]\n",
      "  0%|          | 0/500 [00:00<?, ?it/s]"
     ]
    },
    {
     "name": "stdout",
     "output_type": "stream",
     "text": [
      "Iteration MEAN: 38.836\n",
      "Iteration: 10 Best value: 60.0\n"
     ]
    },
    {
     "name": "stderr",
     "output_type": "stream",
     "text": [
      "100%|██████████| 500/500 [00:39<00:00, 12.63it/s]\n",
      "  0%|          | 0/500 [00:00<?, ?it/s]"
     ]
    },
    {
     "name": "stdout",
     "output_type": "stream",
     "text": [
      "Iteration MEAN: 38.632\n",
      "Iteration: 11 Best value: 56.0\n"
     ]
    },
    {
     "name": "stderr",
     "output_type": "stream",
     "text": [
      "100%|██████████| 500/500 [00:39<00:00, 12.36it/s]\n",
      "  0%|          | 0/500 [00:00<?, ?it/s]"
     ]
    },
    {
     "name": "stdout",
     "output_type": "stream",
     "text": [
      "Iteration MEAN: 39.028\n",
      "Iteration: 12 Best value: 58.0\n"
     ]
    },
    {
     "name": "stderr",
     "output_type": "stream",
     "text": [
      "100%|██████████| 500/500 [00:39<00:00, 12.63it/s]\n",
      "  0%|          | 0/500 [00:00<?, ?it/s]"
     ]
    },
    {
     "name": "stdout",
     "output_type": "stream",
     "text": [
      "Iteration MEAN: 39.284\n",
      "Iteration: 13 Best value: 68.0\n"
     ]
    },
    {
     "name": "stderr",
     "output_type": "stream",
     "text": [
      "100%|██████████| 500/500 [00:39<00:00, 12.73it/s]\n",
      "  0%|          | 0/500 [00:00<?, ?it/s]"
     ]
    },
    {
     "name": "stdout",
     "output_type": "stream",
     "text": [
      "Iteration MEAN: 38.904\n",
      "Iteration: 14 Best value: 60.0\n"
     ]
    },
    {
     "name": "stderr",
     "output_type": "stream",
     "text": [
      "100%|██████████| 500/500 [00:40<00:00, 12.28it/s]\n",
      "  0%|          | 0/500 [00:00<?, ?it/s]"
     ]
    },
    {
     "name": "stdout",
     "output_type": "stream",
     "text": [
      "Iteration MEAN: 39.364\n",
      "Iteration: 15 Best value: 62.0\n"
     ]
    },
    {
     "name": "stderr",
     "output_type": "stream",
     "text": [
      "100%|██████████| 500/500 [00:41<00:00, 12.42it/s]\n",
      "  0%|          | 0/500 [00:00<?, ?it/s]"
     ]
    },
    {
     "name": "stdout",
     "output_type": "stream",
     "text": [
      "Iteration MEAN: 39.168\n",
      "Iteration: 16 Best value: 68.0\n"
     ]
    },
    {
     "name": "stderr",
     "output_type": "stream",
     "text": [
      "100%|██████████| 500/500 [00:39<00:00, 12.83it/s]\n",
      "  0%|          | 0/500 [00:00<?, ?it/s]"
     ]
    },
    {
     "name": "stdout",
     "output_type": "stream",
     "text": [
      "Iteration MEAN: 39.528\n",
      "Iteration: 17 Best value: 62.0\n"
     ]
    },
    {
     "name": "stderr",
     "output_type": "stream",
     "text": [
      "100%|██████████| 500/500 [00:40<00:00, 11.18it/s]\n"
     ]
    },
    {
     "name": "stdout",
     "output_type": "stream",
     "text": [
      "Iteration MEAN: 39.028\n",
      "Iteration: 18 Best value: 58.0\n"
     ]
    },
    {
     "name": "stderr",
     "output_type": "stream",
     "text": [
      "100%|██████████| 500/500 [00:40<00:00, 12.46it/s]\n",
      "  0%|          | 0/500 [00:00<?, ?it/s]"
     ]
    },
    {
     "name": "stdout",
     "output_type": "stream",
     "text": [
      "Iteration MEAN: 39.704\n",
      "Iteration: 19 Best value: 62.0\n"
     ]
    },
    {
     "name": "stderr",
     "output_type": "stream",
     "text": [
      "100%|██████████| 500/500 [00:40<00:00, 12.14it/s]\n",
      "  0%|          | 0/500 [00:00<?, ?it/s]"
     ]
    },
    {
     "name": "stdout",
     "output_type": "stream",
     "text": [
      "Iteration MEAN: 38.736\n",
      "Iteration: 20 Best value: 58.0\n"
     ]
    },
    {
     "name": "stderr",
     "output_type": "stream",
     "text": [
      "100%|██████████| 500/500 [00:40<00:00, 12.67it/s]\n",
      "  0%|          | 0/500 [00:00<?, ?it/s]"
     ]
    },
    {
     "name": "stdout",
     "output_type": "stream",
     "text": [
      "Iteration MEAN: 39.3\n",
      "Iteration: 21 Best value: 58.0\n"
     ]
    },
    {
     "name": "stderr",
     "output_type": "stream",
     "text": [
      "100%|██████████| 500/500 [00:40<00:00, 12.59it/s]\n",
      "  0%|          | 0/500 [00:00<?, ?it/s]"
     ]
    },
    {
     "name": "stdout",
     "output_type": "stream",
     "text": [
      "Iteration MEAN: 39.728\n",
      "Iteration: 22 Best value: 66.0\n"
     ]
    },
    {
     "name": "stderr",
     "output_type": "stream",
     "text": [
      "100%|██████████| 500/500 [00:40<00:00, 12.54it/s]\n",
      "  0%|          | 0/500 [00:00<?, ?it/s]"
     ]
    },
    {
     "name": "stdout",
     "output_type": "stream",
     "text": [
      "Iteration MEAN: 39.48\n",
      "Iteration: 23 Best value: 62.0\n"
     ]
    },
    {
     "name": "stderr",
     "output_type": "stream",
     "text": [
      "100%|██████████| 500/500 [00:40<00:00, 12.34it/s]\n",
      "  0%|          | 0/500 [00:00<?, ?it/s]"
     ]
    },
    {
     "name": "stdout",
     "output_type": "stream",
     "text": [
      "Iteration MEAN: 39.236\n",
      "Iteration: 24 Best value: 60.0\n"
     ]
    },
    {
     "name": "stderr",
     "output_type": "stream",
     "text": [
      "100%|██████████| 500/500 [00:40<00:00, 12.46it/s]\n",
      "  0%|          | 0/500 [00:00<?, ?it/s]"
     ]
    },
    {
     "name": "stdout",
     "output_type": "stream",
     "text": [
      "Iteration MEAN: 39.956\n",
      "Iteration: 25 Best value: 62.0\n"
     ]
    },
    {
     "name": "stderr",
     "output_type": "stream",
     "text": [
      "100%|██████████| 500/500 [00:39<00:00, 12.69it/s]\n",
      "  0%|          | 0/500 [00:00<?, ?it/s]"
     ]
    },
    {
     "name": "stdout",
     "output_type": "stream",
     "text": [
      "Iteration MEAN: 39.772\n",
      "Iteration: 26 Best value: 62.0\n"
     ]
    },
    {
     "name": "stderr",
     "output_type": "stream",
     "text": [
      "100%|██████████| 500/500 [00:40<00:00, 12.73it/s]\n",
      "  0%|          | 0/500 [00:00<?, ?it/s]"
     ]
    },
    {
     "name": "stdout",
     "output_type": "stream",
     "text": [
      "Iteration MEAN: 40.296\n",
      "Iteration: 27 Best value: 56.0\n"
     ]
    },
    {
     "name": "stderr",
     "output_type": "stream",
     "text": [
      "100%|██████████| 500/500 [00:39<00:00, 12.85it/s]\n",
      "  0%|          | 0/500 [00:00<?, ?it/s]"
     ]
    },
    {
     "name": "stdout",
     "output_type": "stream",
     "text": [
      "Iteration MEAN: 40.484\n",
      "Iteration: 28 Best value: 62.0\n"
     ]
    },
    {
     "name": "stderr",
     "output_type": "stream",
     "text": [
      "100%|██████████| 500/500 [00:40<00:00, 12.77it/s]\n",
      "  0%|          | 0/500 [00:00<?, ?it/s]"
     ]
    },
    {
     "name": "stdout",
     "output_type": "stream",
     "text": [
      "Iteration MEAN: 39.74\n",
      "Iteration: 29 Best value: 58.0\n"
     ]
    },
    {
     "name": "stderr",
     "output_type": "stream",
     "text": [
      "100%|██████████| 500/500 [00:40<00:00, 12.61it/s]\n",
      "  0%|          | 0/500 [00:00<?, ?it/s]"
     ]
    },
    {
     "name": "stdout",
     "output_type": "stream",
     "text": [
      "Iteration MEAN: 40.32\n",
      "Iteration: 30 Best value: 60.0\n"
     ]
    },
    {
     "name": "stderr",
     "output_type": "stream",
     "text": [
      "100%|██████████| 500/500 [00:41<00:00, 12.77it/s]\n"
     ]
    },
    {
     "name": "stdout",
     "output_type": "stream",
     "text": [
      "Iteration MEAN: 40.348\n",
      "Iteration: 31 Best value: 64.0\n"
     ]
    },
    {
     "name": "stderr",
     "output_type": "stream",
     "text": [
      "100%|██████████| 500/500 [00:39<00:00, 12.53it/s]\n",
      "  0%|          | 0/500 [00:00<?, ?it/s]"
     ]
    },
    {
     "name": "stdout",
     "output_type": "stream",
     "text": [
      "Iteration MEAN: 40.304\n",
      "Iteration: 32 Best value: 62.0\n"
     ]
    },
    {
     "name": "stderr",
     "output_type": "stream",
     "text": [
      "100%|██████████| 500/500 [00:40<00:00, 12.43it/s]\n",
      "  0%|          | 0/500 [00:00<?, ?it/s]"
     ]
    },
    {
     "name": "stdout",
     "output_type": "stream",
     "text": [
      "Iteration MEAN: 40.784\n",
      "Iteration: 33 Best value: 60.0\n"
     ]
    },
    {
     "name": "stderr",
     "output_type": "stream",
     "text": [
      "100%|██████████| 500/500 [00:41<00:00, 12.07it/s]\n"
     ]
    },
    {
     "name": "stdout",
     "output_type": "stream",
     "text": [
      "Iteration MEAN: 40.608\n",
      "Iteration: 34 Best value: 60.0\n"
     ]
    },
    {
     "name": "stderr",
     "output_type": "stream",
     "text": [
      "100%|██████████| 500/500 [00:40<00:00, 12.38it/s]\n",
      "  0%|          | 0/500 [00:00<?, ?it/s]"
     ]
    },
    {
     "name": "stdout",
     "output_type": "stream",
     "text": [
      "Iteration MEAN: 40.988\n",
      "Iteration: 35 Best value: 64.0\n"
     ]
    },
    {
     "name": "stderr",
     "output_type": "stream",
     "text": [
      "100%|██████████| 500/500 [00:40<00:00, 12.24it/s]\n",
      "  0%|          | 0/500 [00:00<?, ?it/s]"
     ]
    },
    {
     "name": "stdout",
     "output_type": "stream",
     "text": [
      "Iteration MEAN: 40.74\n",
      "Iteration: 36 Best value: 62.0\n"
     ]
    },
    {
     "name": "stderr",
     "output_type": "stream",
     "text": [
      "100%|██████████| 500/500 [00:40<00:00, 12.49it/s]\n",
      "  0%|          | 0/500 [00:00<?, ?it/s]"
     ]
    },
    {
     "name": "stdout",
     "output_type": "stream",
     "text": [
      "Iteration MEAN: 40.764\n",
      "Iteration: 37 Best value: 66.0\n"
     ]
    },
    {
     "name": "stderr",
     "output_type": "stream",
     "text": [
      "100%|██████████| 500/500 [00:40<00:00, 10.97it/s]\n",
      "  0%|          | 0/500 [00:00<?, ?it/s]"
     ]
    },
    {
     "name": "stdout",
     "output_type": "stream",
     "text": [
      "Iteration MEAN: 40.36\n",
      "Iteration: 38 Best value: 66.0\n"
     ]
    },
    {
     "name": "stderr",
     "output_type": "stream",
     "text": [
      "100%|██████████| 500/500 [00:40<00:00, 12.49it/s]\n",
      "  0%|          | 0/500 [00:00<?, ?it/s]"
     ]
    },
    {
     "name": "stdout",
     "output_type": "stream",
     "text": [
      "Iteration MEAN: 40.796\n",
      "Iteration: 39 Best value: 60.0\n"
     ]
    },
    {
     "name": "stderr",
     "output_type": "stream",
     "text": [
      "100%|██████████| 500/500 [00:39<00:00, 12.88it/s]\n",
      "  0%|          | 0/500 [00:00<?, ?it/s]"
     ]
    },
    {
     "name": "stdout",
     "output_type": "stream",
     "text": [
      "Iteration MEAN: 40.788\n",
      "Iteration: 40 Best value: 64.0\n"
     ]
    },
    {
     "name": "stderr",
     "output_type": "stream",
     "text": [
      "100%|██████████| 500/500 [00:39<00:00, 12.71it/s]\n",
      "  0%|          | 0/500 [00:00<?, ?it/s]"
     ]
    },
    {
     "name": "stdout",
     "output_type": "stream",
     "text": [
      "Iteration MEAN: 40.776\n",
      "Iteration: 41 Best value: 62.0\n"
     ]
    },
    {
     "name": "stderr",
     "output_type": "stream",
     "text": [
      "100%|██████████| 500/500 [00:41<00:00, 11.83it/s]\n",
      "  0%|          | 0/500 [00:00<?, ?it/s]"
     ]
    },
    {
     "name": "stdout",
     "output_type": "stream",
     "text": [
      "Iteration MEAN: 40.304\n",
      "Iteration: 42 Best value: 62.0\n"
     ]
    },
    {
     "name": "stderr",
     "output_type": "stream",
     "text": [
      "100%|██████████| 500/500 [00:40<00:00, 12.18it/s]\n",
      "  0%|          | 0/500 [00:00<?, ?it/s]"
     ]
    },
    {
     "name": "stdout",
     "output_type": "stream",
     "text": [
      "Iteration MEAN: 40.64\n",
      "Iteration: 43 Best value: 64.0\n"
     ]
    },
    {
     "name": "stderr",
     "output_type": "stream",
     "text": [
      "100%|██████████| 500/500 [00:40<00:00, 12.77it/s]\n",
      "  0%|          | 0/500 [00:00<?, ?it/s]"
     ]
    },
    {
     "name": "stdout",
     "output_type": "stream",
     "text": [
      "Iteration MEAN: 40.7\n",
      "Iteration: 44 Best value: 64.0\n"
     ]
    },
    {
     "name": "stderr",
     "output_type": "stream",
     "text": [
      "100%|██████████| 500/500 [00:39<00:00, 12.60it/s]\n",
      "  0%|          | 0/500 [00:00<?, ?it/s]"
     ]
    },
    {
     "name": "stdout",
     "output_type": "stream",
     "text": [
      "Iteration MEAN: 39.736\n",
      "Iteration: 45 Best value: 60.0\n"
     ]
    },
    {
     "name": "stderr",
     "output_type": "stream",
     "text": [
      "100%|██████████| 500/500 [00:39<00:00, 12.43it/s]\n",
      "  0%|          | 0/500 [00:00<?, ?it/s]"
     ]
    },
    {
     "name": "stdout",
     "output_type": "stream",
     "text": [
      "Iteration MEAN: 40.136\n",
      "Iteration: 46 Best value: 64.0\n"
     ]
    },
    {
     "name": "stderr",
     "output_type": "stream",
     "text": [
      "100%|██████████| 500/500 [00:39<00:00, 10.85it/s]\n"
     ]
    },
    {
     "name": "stdout",
     "output_type": "stream",
     "text": [
      "Iteration MEAN: 40.808\n",
      "Iteration: 47 Best value: 64.0\n"
     ]
    },
    {
     "name": "stderr",
     "output_type": "stream",
     "text": [
      "100%|██████████| 500/500 [00:40<00:00, 12.48it/s]\n",
      "  0%|          | 0/500 [00:00<?, ?it/s]"
     ]
    },
    {
     "name": "stdout",
     "output_type": "stream",
     "text": [
      "Iteration MEAN: 41.204\n",
      "Iteration: 48 Best value: 62.0\n"
     ]
    },
    {
     "name": "stderr",
     "output_type": "stream",
     "text": [
      "100%|██████████| 500/500 [00:38<00:00, 12.62it/s]\n"
     ]
    },
    {
     "name": "stdout",
     "output_type": "stream",
     "text": [
      "Iteration MEAN: 41.156\n",
      "Iteration: 49 Best value: 62.0\n"
     ]
    }
   ],
   "source": [
    "best_and_mean_scores = []\n",
    "p_size= 500\n",
    "population = [Neural_strategy('AI') for n in range(0,p_size)]\n",
    "\n",
    "[p.init_neural_activity() for p in population] #starting network random weights\n",
    "\n",
    "from tqdm import tqdm\n",
    "for i_n in range(100):\n",
    "    fitness = []\n",
    "    for ai in tqdm(population):\n",
    "        matchs = []\n",
    "        f = 0\n",
    "        for x in range(50):\n",
    "            jogo = Game()\n",
    "            lucas = First_strategy('Lucas')\n",
    "            matchs.append(jogo.start_game([ ai, lucas]))\n",
    "            ai.reset_status()\n",
    "        #print matchs\n",
    "        f =  100 * (len([m for m in matchs if m == 'AI'])/float(len(matchs)))\n",
    "        #print f \n",
    "        fitness.append(f)\n",
    "    higher_fitness = sorted( [[f, p_f] for f , p_f in zip(fitness, population)], key=lambda s: s[0])\n",
    "    print 'Iteration MEAN:', np.mean([v[0] for v in higher_fitness])\n",
    "        \n",
    "    loss_str= 'Best value: {}'.format(str(higher_fitness[-1][0]))\n",
    "    best_and_mean_scores.append([higher_fitness[-1][0], np.mean([v[0] for v in higher_fitness])])\n",
    "    itr_str = 'Iteration: {}'.format( str(i_n))\n",
    "    print itr_str, loss_str\n",
    "    #print [ h[0] for h in  higher_fitness[-5:]]\n",
    "    best_creatures = higher_fitness[-10:]\n",
    "    #print [float(b_c) for b_c in best_creatures]\n",
    "    population = [copy.deepcopy(random.choice(best_creatures)[1]) for i in range(0, p_size)]\n",
    "    [p_m.neural_network.mutate_all_layers() for p_m in population]\n",
    "\n",
    "    "
   ]
  },
  {
   "cell_type": "code",
   "execution_count": 107,
   "metadata": {},
   "outputs": [],
   "source": [
    "## Ploting the mean game values "
   ]
  },
  {
   "cell_type": "code",
   "execution_count": 18,
   "metadata": {},
   "outputs": [
    {
     "data": {
      "image/png": "[encoded data removed]",
      "text/plain": [
       "<Figure size 432x288 with 1 Axes>"
      ]
     },
     "metadata": {
      "needs_background": "light"
     },
     "output_type": "display_data"
    }
   ],
   "source": [
    "df_training = pd.DataFrame(best_and_mean_scores, columns=['best_result', 'mean_result'])\n",
    "\n",
    "\n",
    "plt.plot(df_training['mean_result'], color= 'red', lw=2)\n",
    "plt.title('Mean % of won games by iteraction')\n",
    "plt.xlabel('Iteraction number')\n",
    "plt.show()"
   ]
  },
  {
   "cell_type": "code",
   "execution_count": 17,
   "metadata": {},
   "outputs": [
    {
     "data": {
      "image/png": "[encoded data removed]",
      "text/plain": [
       "<Figure size 432x288 with 1 Axes>"
      ]
     },
     "metadata": {
      "needs_background": "light"
     },
     "output_type": "display_data"
    }
   ],
   "source": [
    "plt.plot(df_training['best_result'], color= 'blue', lw=2)\n",
    "plt.title('% of won games BEST RESULTS only')\n",
    "plt.xlabel('Iteraction number')\n",
    "plt.show()"
   ]
  },
  {
   "cell_type": "code",
   "execution_count": 225,
   "metadata": {},
   "outputs": [
    {
     "data": {
      "text/plain": [
       "516"
      ]
     },
     "execution_count": 225,
     "metadata": {},
     "output_type": "execute_result"
    }
   ],
   "source": [
    "score_teste = 0\n",
    "for g in range(1000):\n",
    "    jogo = Game()\n",
    "    lucas = First_strategy('Lucas')\n",
    "    ai = copy.deepcopy(best_creatures[-1][1])\n",
    "\n",
    "    r =  jogo.start_game([lucas, ai])\n",
    "    if r =='AI':\n",
    "        score_teste +=1\n",
    "    ai.reset_status()\n",
    "score_teste"
   ]
  },
  {
   "cell_type": "code",
   "execution_count": null,
   "metadata": {},
   "outputs": [],
   "source": []
  },
  {
   "cell_type": "code",
   "execution_count": 139,
   "metadata": {},
   "outputs": [
    {
     "data": {
      "text/plain": [
       "0"
      ]
     },
     "execution_count": 139,
     "metadata": {},
     "output_type": "execute_result"
    }
   ],
   "source": [
    "score_teste = 0\n",
    "for g in range(100):\n",
    "    if   == \"ai\":\n",
    "        score_teste +=1\n",
    "    ai.reset_status()\n",
    "    score_teste"
   ]
  },
  {
   "cell_type": "code",
   "execution_count": 136,
   "metadata": {},
   "outputs": [
    {
     "name": "stdout",
     "output_type": "stream",
     "text": [
      "Lucas\n"
     ]
    }
   ],
   "source": [
    "print jogo.start_game([lucas, ai])\n",
    "ai.reset_status()"
   ]
  },
  {
   "cell_type": "code",
   "execution_count": 100,
   "metadata": {},
   "outputs": [
    {
     "name": "stdout",
     "output_type": "stream",
     "text": [
      "Lucas\n"
     ]
    }
   ],
   "source": [
    "print jogo.start_game([lucas, ai])\n",
    "ai.reset_status()"
   ]
  },
  {
   "cell_type": "code",
   "execution_count": null,
   "metadata": {},
   "outputs": [],
   "source": []
  }
 ],
 "metadata": {
  "kernelspec": {
   "display_name": "Python 2",
   "language": "python",
   "name": "python2"
  },
  "language_info": {
   "codemirror_mode": {
    "name": "ipython",
    "version": 2
   },
   "file_extension": ".py",
   "mimetype": "text/x-python",
   "name": "python",
   "nbconvert_exporter": "python",
   "pygments_lexer": "ipython2",
   "version": "2.7.15"
  }
 },
 "nbformat": 4,
 "nbformat_minor": 2
}
